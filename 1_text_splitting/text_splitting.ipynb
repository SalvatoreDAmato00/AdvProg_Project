{
 "cells": [
  {
   "cell_type": "code",
   "execution_count": 1,
   "id": "403c64a2-3b2e-4ea9-8eaa-7911b6a79a18",
   "metadata": {},
   "outputs": [],
   "source": [
    "from langchain.document_loaders import TextLoader\n"
   ]
  },
  {
   "cell_type": "code",
   "execution_count": 2,
   "id": "dbe5a6c5-e0e4-4086-b39a-1abdaa72db81",
   "metadata": {},
   "outputs": [
    {
     "data": {
      "text/plain": [
       "[Document(page_content=\"The stock of NVIDIA Corp (NASDAQ:NVDA) experienced a daily loss of -3.56% and a 3-month gain of 32.35%. With an Earnings Per Share (EPS) (EPS) of $1.92, the question arises: is the stock significantly overvalued? This article aims to provide a detailed valuation analysis of NVIDIA, offering insights into its financial strength, profitability, growth, and more. We invite you to delve into this comprehensive analysis.\\n\\nCompany Overview\\nWarning! GuruFocus has detected 10 Warning Signs with NVDA. Click here to check it out.\\n\\nNVDA 30-Year Financial Data\\n\\nThe intrinsic value of NVDA\\n\\n\\nNVIDIA Corp (NASDAQ:NVDA) is a leading designer of discrete graphics processing units that enhance the experience on computing platforms. The firm's chips are widely used in various end markets, including PC gaming and data centers. In recent years, NVIDIA has broadened its focus from traditional PC graphics applications such as gaming to more complex and favorable opportunities, including artificial intelligence and autonomous driving, leveraging the high-performance capabilities of its products.\\n\\nCurrently, NVIDIA's stock price stands at $418.01, significantly higher than the GF Value of $310.28, indicating the stock might be overvalued. With a market cap of $1 trillion, the valuation seems steep. The following analysis aims to delve deeper into the company's value.\\n\\nIs NVIDIA's Stock Significantly Overvalued? A Comprehensive Valuation Analysis\\nIs NVIDIA's Stock Significantly Overvalued? A Comprehensive Valuation Analysis\\nUnderstanding the GF Value\\nThe GF Value is a unique measure of the intrinsic value of a stock, calculated based on historical trading multiples, a GuruFocus adjustment factor, and future business performance estimates. If the stock price is significantly above the GF Value Line, it is overvalued, and its future return is likely to be poor. Conversely, if it is significantly below the GF Value Line, its future return will likely be higher.\\n\\nAccording to GuruFocus Value calculation, NVIDIA (NASDAQ:NVDA) appears to be significantly overvalued. The stock's current price of $418.01 per share and the market cap of $1 trillion further strengthen this assumption.\\n\\nGiven that NVIDIA is significantly overvalued, the long-term return of its stock is likely to be much lower than its future business growth.\\n\\nIs NVIDIA's Stock Significantly Overvalued? A Comprehensive Valuation Analysis\\nIs NVIDIA's Stock Significantly Overvalued? A Comprehensive Valuation Analysis\\nLink: These companies may deliver higher future returns at reduced risk.\\n\\nFinancial Strength of NVIDIA\\nExamining the financial strength of a company is crucial before investing in its stock. Companies with poor financial strength pose a higher risk of permanent loss. NVIDIA's cash-to-debt ratio of 1.27 is worse than 58.04% of companies in the Semiconductors industry. However, NVIDIA's overall financial strength is 8 out of 10, indicating a strong financial position.\\n\\nIs NVIDIA's Stock Significantly Overvalued? A Comprehensive Valuation Analysis\\nIs NVIDIA's Stock Significantly Overvalued? A Comprehensive Valuation Analysis\\nProfitability and Growth\\nConsistent profitability over the long term reduces the risk for investors. NVIDIA, with its profitability ranking of 10 out of 10, has been profitable for the past 10 years. The company's operating margin of 17.37% ranks better than 76.5% of companies in the Semiconductors industry.\\n\\nHowever, growth is a crucial factor in a company's valuation. NVIDIA's growth ranks worse than 52.99% of companies in the Semiconductors industry, with its 3-year average revenue growth rate better than 87.88% of companies in the industry.\\n\\nROIC vs WACC\\nComparing a company's return on invested capital (ROIC) to its weighted average cost of capital (WACC) is an effective way to evaluate its profitability. Over the past 12 months, NVIDIA's ROIC was 20.32 while its WACC was 16.74, suggesting that the company is creating value for its shareholders.\\n\\nIs NVIDIA's Stock Significantly Overvalued? A Comprehensive Valuation Analysis\\nIs NVIDIA's Stock Significantly Overvalued? A Comprehensive Valuation Analysis\\nConclusion\\nIn conclusion, NVIDIA (NASDAQ:NVDA) appears to be significantly overvalued. Despite its strong financial condition and profitability, its growth ranks lower than 52.99% of companies in the Semiconductors industry. To learn more about NVIDIA stock, you can check out its 30-Year Financials here.\\n\\nTo find out the high quality companies that may deliver above-average returns, please check out GuruFocus High Quality Low Capex Screener.\\n\\nThis article first appeared on GuruFocus.\", metadata={'source': 'C:/Users/sdama/Desktop/HEC Lausanne - MSc Finance/2° SEMESTER/AP/PROGETTO/nvda_news_1.txt'})]"
      ]
     },
     "execution_count": 2,
     "metadata": {},
     "output_type": "execute_result"
    }
   ],
   "source": [
    "loader = TextLoader(\"C:/Users/sdama/Desktop/HEC Lausanne - MSc Finance/2° SEMESTER/AP/PROGETTO/nvda_news_1.txt\")\n",
    "loader.load()"
   ]
  },
  {
   "cell_type": "code",
   "execution_count": 3,
   "id": "704590e7-abca-4401-8b40-0c6189725f17",
   "metadata": {},
   "outputs": [
    {
     "data": {
      "text/plain": [
       "langchain_community.document_loaders.text.TextLoader"
      ]
     },
     "execution_count": 3,
     "metadata": {},
     "output_type": "execute_result"
    }
   ],
   "source": [
    "type(loader)\n"
   ]
  },
  {
   "cell_type": "markdown",
   "id": "25d3423e-a5dd-49d6-a422-aa63ece671bd",
   "metadata": {},
   "source": [
    "CSV Loader"
   ]
  },
  {
   "cell_type": "code",
   "execution_count": 4,
   "id": "b532b1a5-cd77-4756-8fac-7d3fda2f757b",
   "metadata": {},
   "outputs": [],
   "source": [
    "from langchain.document_loaders.csv_loader import CSVLoader\n"
   ]
  },
  {
   "cell_type": "code",
   "execution_count": 5,
   "id": "6cfda5b9-f239-45ec-b461-88efb6a265f6",
   "metadata": {},
   "outputs": [
    {
     "data": {
      "text/plain": [
       "[Document(page_content='movie_id;title;industry;release_year;imdb_rating;studio;language_id;budget;revenue;unit;currency: 101;Doctor Strange in the Multiverse of Madness;Hollywood;2022;7;Marvel Studios;5;200;954.8;Millions;USD', metadata={'source': 'movies.csv', 'row': 0}),\n",
       " Document(page_content='movie_id;title;industry;release_year;imdb_rating;studio;language_id;budget;revenue;unit;currency: 102;Thor: The Dark World;Hollywood;2013;6.8;Marvel Studios;5;165;644.8;Millions;USD', metadata={'source': 'movies.csv', 'row': 1}),\n",
       " Document(page_content='movie_id;title;industry;release_year;imdb_rating;studio;language_id;budget;revenue;unit;currency: 103;Thor: Ragnarok;Hollywood;2017;7.9;Marvel Studios;5;180;854;Millions;USD', metadata={'source': 'movies.csv', 'row': 2}),\n",
       " Document(page_content='movie_id;title;industry;release_year;imdb_rating;studio;language_id;budget;revenue;unit;currency: 104;Thor: Love and Thunder;Hollywood;2022;6.8;Marvel Studios;5;250;670;Millions;USD', metadata={'source': 'movies.csv', 'row': 3})]"
      ]
     },
     "execution_count": 5,
     "metadata": {},
     "output_type": "execute_result"
    }
   ],
   "source": [
    "loader = CSVLoader(file_path=\"movies.csv\")\n",
    "data = loader.load()\n",
    "data\n"
   ]
  },
  {
   "cell_type": "code",
   "execution_count": 6,
   "id": "f1a038a9-bb2d-418d-9cc3-016ed2197b44",
   "metadata": {},
   "outputs": [
    {
     "data": {
      "text/plain": [
       "Document(page_content='movie_id;title;industry;release_year;imdb_rating;studio;language_id;budget;revenue;unit;currency: 101;Doctor Strange in the Multiverse of Madness;Hollywood;2022;7;Marvel Studios;5;200;954.8;Millions;USD', metadata={'source': 'movies.csv', 'row': 0})"
      ]
     },
     "execution_count": 6,
     "metadata": {},
     "output_type": "execute_result"
    }
   ],
   "source": [
    "data[0]"
   ]
  },
  {
   "cell_type": "code",
   "execution_count": 7,
   "id": "aa9d3955-202b-4294-a670-85d202ff53b8",
   "metadata": {},
   "outputs": [
    {
     "name": "stdout",
     "output_type": "stream",
     "text": [
      "Failed to load data: Error loading movies.csv\n"
     ]
    }
   ],
   "source": [
    "try:\n",
    "    # Adjusting to include an encoding parameter if supported\n",
    "    loader = CSVLoader(file_path=\"movies.csv\", source_column=\"title\", encoding='utf-8')\n",
    "    data = loader.load()\n",
    "    print(data)\n",
    "except Exception as e:\n",
    "    print(f\"Failed to load data: {e}\")\n"
   ]
  },
  {
   "cell_type": "code",
   "execution_count": 8,
   "id": "26a788d0-5d33-4c34-984a-cd7a0024f0d7",
   "metadata": {},
   "outputs": [
    {
     "data": {
      "text/plain": [
       "'movie_id;title;industry;release_year;imdb_rating;studio;language_id;budget;revenue;unit;currency: 101;Doctor Strange in the Multiverse of Madness;Hollywood;2022;7;Marvel Studios;5;200;954.8;Millions;USD'"
      ]
     },
     "execution_count": 8,
     "metadata": {},
     "output_type": "execute_result"
    }
   ],
   "source": [
    "data[0].page_content\n"
   ]
  },
  {
   "cell_type": "code",
   "execution_count": 9,
   "id": "5491d71a-3dc6-40bd-9deb-a7908e7da11e",
   "metadata": {},
   "outputs": [
    {
     "data": {
      "text/plain": [
       "{'source': 'movies.csv', 'row': 0}"
      ]
     },
     "execution_count": 9,
     "metadata": {},
     "output_type": "execute_result"
    }
   ],
   "source": [
    "data[0].metadata\n"
   ]
  },
  {
   "cell_type": "markdown",
   "id": "7c65ed3d-07ef-4eb0-ae45-512e16742311",
   "metadata": {},
   "source": [
    "UnstructuredURLLoader\n"
   ]
  },
  {
   "cell_type": "code",
   "execution_count": 10,
   "id": "6f8c15ac-cba2-41a7-ba89-bda22dbdab62",
   "metadata": {},
   "outputs": [],
   "source": [
    "from langchain.document_loaders import UnstructuredURLLoader\n"
   ]
  },
  {
   "cell_type": "code",
   "execution_count": 11,
   "id": "64f469c0-6782-473a-9950-0480dca3d4cc",
   "metadata": {},
   "outputs": [],
   "source": [
    "loader = UnstructuredURLLoader(\n",
    "    urls = [\n",
    "        \"https://finance.yahoo.com/video/p-500-headed-fifth-straight-203618428.html\",\n",
    "        \"https://finance.yahoo.com/video/p-500-q4-earnings-season-153057099.html\"\n",
    "    ]\n",
    ")\n",
    "\n"
   ]
  },
  {
   "cell_type": "code",
   "execution_count": 12,
   "id": "921b3c85-af75-4192-8430-0176720e77f4",
   "metadata": {},
   "outputs": [
    {
     "name": "stderr",
     "output_type": "stream",
     "text": [
      "C:\\Users\\sdama\\anaconda3\\lib\\site-packages\\scipy\\__init__.py:146: UserWarning: A NumPy version >=1.16.5 and <1.23.0 is required for this version of SciPy (detected version 1.26.4\n",
      "  warnings.warn(f\"A NumPy version >={np_minversion} and <{np_maxversion}\"\n"
     ]
    },
    {
     "data": {
      "text/plain": [
       "2"
      ]
     },
     "execution_count": 12,
     "metadata": {},
     "output_type": "execute_result"
    }
   ],
   "source": [
    "# Returns the number of articles\n",
    "data = loader.load()\n",
    "len(data)"
   ]
  },
  {
   "cell_type": "code",
   "execution_count": 13,
   "id": "11f5b3bc-6b1a-4b2f-96d8-f66f99330280",
   "metadata": {},
   "outputs": [
    {
     "data": {
      "text/plain": [
       "{'source': 'https://finance.yahoo.com/video/p-500-headed-fifth-straight-203618428.html'}"
      ]
     },
     "execution_count": 13,
     "metadata": {},
     "output_type": "execute_result"
    }
   ],
   "source": [
    "data[0].metadata"
   ]
  },
  {
   "cell_type": "markdown",
   "id": "a063a682-18e9-4b34-bc12-d9677b7df2ff",
   "metadata": {},
   "source": [
    "TextSplitter"
   ]
  },
  {
   "cell_type": "code",
   "execution_count": 14,
   "id": "66c03d26-dae0-4d4c-a744-d9b221990525",
   "metadata": {},
   "outputs": [],
   "source": [
    "# # Taking some random text from the description of a movie\n",
    "\n",
    "text = \"\"\"In 1985, Russian boxer Ivan Drago arrives in the U.S. to showcase Soviet superiority through sports. His manager seizes every \n",
    "chance to promote Drago's superior athleticism. Inspired by patriotism, the former heavyweight champion Apollo Creed decides to challenge Ivan\n",
    "Drago to an exhibition bout. Despite Rocky's reservations, he agrees to train Apollo for the fight.\n",
    "\n",
    "Tensions flare during a press conference, setting the stage for the match at the MGM Grand Hotel in Las Vegas. Apollo makes a flamboyant, patriotic \n",
    "entrance, but the bout quickly turns serious. Apollo's initial punches have no effect on Drago, who responds with overwhelming force. \n",
    "After a brutal first round, Apollo's trainer, Duke, and Rocky plead with him to give up the fight. Defiant, Apollo insists the match go on, \n",
    "leading to his tragic death in the ring at Drago's hands. Drago's indifferent reaction incites public outraged reaction.\n",
    "\n",
    "Disturbed by the cold response from Drago and his camp, Rocky vows to avenge his friend. He relinquishes his championship title to fight Drago \n",
    "in an unofficial 15-round match in the Soviet Union on Christmas. Leaving behind his disapproving wife, Adrian, Rocky travels to a remote cabin\n",
    "in Krasnogourbinsk with Duke and Paulie to prepare. While Drago undergoes a high-tech training regime with steroids, Rocky adopts a more \n",
    "primitive training method, using the harsh winter conditions and rudimentary equipment.The fight takes place in a hostile environment with Soviet dignitaries in attendance, contrasting sharply with the support Rocky had back \n",
    "home. Unlike his approach with Apollo, Drago aggressively dominates the early stages of the match, setting a tense and dramatic tone for Rocky's biggest fight yet.\"\"\""
   ]
  },
  {
   "cell_type": "markdown",
   "id": "50aa4590-b189-4989-a455-ec87151fa7ed",
   "metadata": {},
   "source": [
    "Manual process of splitting the text into chunks\n"
   ]
  },
  {
   "cell_type": "code",
   "execution_count": 15,
   "id": "75434518-0a85-4f92-8e2a-6357df470350",
   "metadata": {},
   "outputs": [
    {
     "data": {
      "text/plain": [
       "'In 1985, Russian boxer Ivan Drago arrives in the U.S. to showcase Soviet superiority through sports.'"
      ]
     },
     "execution_count": 15,
     "metadata": {},
     "output_type": "execute_result"
    }
   ],
   "source": [
    "# Hypothesis that LLM token limit is 100, in that case we can do simple thing such as this\n",
    "\n",
    "text[0:100]"
   ]
  },
  {
   "cell_type": "code",
   "execution_count": 16,
   "id": "e1cb453d-da8b-4aab-9a3a-298199e7de84",
   "metadata": {},
   "outputs": [
    {
     "data": {
      "text/plain": [
       "264"
      ]
     },
     "execution_count": 16,
     "metadata": {},
     "output_type": "execute_result"
    }
   ],
   "source": [
    "# Well but we want complete words and want to do this for entire text, maybe we can use Python's split funciton\n",
    "\n",
    "words = text.split(\" \")\n",
    "len(words)"
   ]
  },
  {
   "cell_type": "code",
   "execution_count": 17,
   "id": "7cb60f0b-20b7-4a75-9c1a-137a3d16fd00",
   "metadata": {},
   "outputs": [],
   "source": [
    "# For loop that each chunk is less than 200 words \n",
    "\n",
    "chunks = []\n",
    "\n",
    "s = \"\"\n",
    "for word in words:\n",
    "    s += word + \" \"\n",
    "    if len(s)>200:\n",
    "        chunks.append(s)\n",
    "        s = \"\"\n",
    "        \n",
    "chunks.append(s)"
   ]
  },
  {
   "cell_type": "code",
   "execution_count": 18,
   "id": "2706cfc2-8c82-49f2-8cfb-1ba20de7b40e",
   "metadata": {},
   "outputs": [
    {
     "data": {
      "text/plain": [
       "[\"In 1985, Russian boxer Ivan Drago arrives in the U.S. to showcase Soviet superiority through sports. His manager seizes every \\nchance to promote Drago's superior athleticism. Inspired by patriotism, the \",\n",
       " \"former heavyweight champion Apollo Creed decides to challenge Ivan\\nDrago to an exhibition bout. Despite Rocky's reservations, he agrees to train Apollo for the fight.\\n\\nTensions flare during a press conference, \"]"
      ]
     },
     "execution_count": 18,
     "metadata": {},
     "output_type": "execute_result"
    }
   ],
   "source": [
    "chunks[:2]\n"
   ]
  },
  {
   "cell_type": "code",
   "execution_count": 19,
   "id": "79e3c26d-3832-4a3f-9450-65889be3df1b",
   "metadata": {},
   "outputs": [],
   "source": [
    "# Inefficient with Python, try with Langchain"
   ]
  },
  {
   "cell_type": "markdown",
   "id": "7af7cfb6-6e46-4747-a50c-68431ad5a78d",
   "metadata": {},
   "source": [
    "Text Splitter Classes from Langchain\n"
   ]
  },
  {
   "cell_type": "markdown",
   "id": "bd1cd552-2c7c-4da2-9e07-8f600e50006c",
   "metadata": {},
   "source": [
    "CharacterTextSplitter\n"
   ]
  },
  {
   "cell_type": "code",
   "execution_count": 20,
   "id": "0f19a6b9-5662-439e-aa33-4a3fe605858b",
   "metadata": {},
   "outputs": [],
   "source": [
    "from langchain.text_splitter import CharacterTextSplitter\n",
    "\n",
    "splitter = CharacterTextSplitter(\n",
    "    separator = \"\\n\",\n",
    "    chunk_size=200,\n",
    "    chunk_overlap=0\n",
    ")"
   ]
  },
  {
   "cell_type": "code",
   "execution_count": 21,
   "id": "7cf10b2d-547a-43df-b257-c6ac430174ec",
   "metadata": {},
   "outputs": [
    {
     "name": "stderr",
     "output_type": "stream",
     "text": [
      "Created a chunk of size 225, which is longer than the specified 200\n"
     ]
    },
    {
     "data": {
      "text/plain": [
       "12"
      ]
     },
     "execution_count": 21,
     "metadata": {},
     "output_type": "execute_result"
    }
   ],
   "source": [
    "chunks = splitter.split_text(text)\n",
    "len(chunks)"
   ]
  },
  {
   "cell_type": "code",
   "execution_count": 22,
   "id": "667f6414-269f-4eb1-9f53-a0ea1b6a0a75",
   "metadata": {},
   "outputs": [
    {
     "name": "stdout",
     "output_type": "stream",
     "text": [
      "125\n",
      "142\n",
      "99\n",
      "147\n",
      "133\n",
      "139\n",
      "120\n",
      "142\n",
      "143\n",
      "136\n",
      "224\n",
      "163\n"
     ]
    }
   ],
   "source": [
    "for chunk in chunks:\n",
    "    print(len(chunk))"
   ]
  },
  {
   "cell_type": "markdown",
   "id": "d7b25176-1230-41c5-9539-6da2e34f319f",
   "metadata": {},
   "source": [
    "RecursiveTextSplitter\n"
   ]
  },
  {
   "cell_type": "code",
   "execution_count": 23,
   "id": "d5104660-e050-4705-8288-e671309e9e7f",
   "metadata": {},
   "outputs": [
    {
     "data": {
      "text/plain": [
       "\"In 1985, Russian boxer Ivan Drago arrives in the U.S. to showcase Soviet superiority through sports. His manager seizes every \\nchance to promote Drago's superior athleticism. Inspired by patriotism, the former heavyweight champion Apollo Creed decides to challenge Ivan\\nDrago to an exhibition bout. Despite Rocky's reservations, he agrees to train Apollo for the fight.\\n\\nTensions flare during a press conference, setting the stage for the match at the MGM Grand Hotel in Las Vegas. Apollo makes a flamboyant, patriotic \\nentrance, but the bout quickly turns serious. Apollo's initial punches have no effect on Drago, who responds with overwhelming force. \\nAfter a brutal first round, Apollo's trainer, Duke, and Rocky plead with him to give up the fight. Defiant, Apollo insists the match go on, \\nleading to his tragic death in the ring at Drago's hands. Drago's indifferent reaction incites public outraged reaction.\\n\\nDisturbed by the cold response from Drago and his camp, Rocky vows to avenge his friend. He relinquishes his championship title to fight Drago \\nin an unofficial 15-round match in the Soviet Union on Christmas. Leaving behind his disapproving wife, Adrian, Rocky travels to a remote cabin\\nin Krasnogourbinsk with Duke and Paulie to prepare. While Drago undergoes a high-tech training regime with steroids, Rocky adopts a more \\nprimitive training method, using the harsh winter conditions and rudimentary equipment.The fight takes place in a hostile environment with Soviet dignitaries in attendance, contrasting sharply with the support Rocky had back \\nhome. Unlike his approach with Apollo, Drago aggressively dominates the early stages of the match, setting a tense and dramatic tone for Rocky's biggest fight yet.\""
      ]
     },
     "execution_count": 23,
     "metadata": {},
     "output_type": "execute_result"
    }
   ],
   "source": [
    "text"
   ]
  },
  {
   "cell_type": "code",
   "execution_count": 24,
   "id": "c0d23a3c-2838-4168-b45b-173f191491f3",
   "metadata": {},
   "outputs": [],
   "source": [
    "from langchain.text_splitter import RecursiveCharacterTextSplitter\n",
    "\n",
    "r_splitter = RecursiveCharacterTextSplitter(\n",
    "    separators = [\"\\n\\n\", \"\\n\", \" \"],  # List of separators based on requirement (defaults to [\"\\n\\n\", \"\\n\", \" \"])\n",
    "    chunk_size = 200,  # size of each chunk created\n",
    "    chunk_overlap  = 0,  # size of  overlap between chunks in order to maintain the context\n",
    "    length_function = len  # Function to calculate size, currently we are using \"len\" which denotes length of string however you can pass any token counter)\n",
    ")"
   ]
  },
  {
   "cell_type": "code",
   "execution_count": 25,
   "id": "bfb89bba-d271-4128-b26a-fa1f90d3db88",
   "metadata": {},
   "outputs": [
    {
     "name": "stdout",
     "output_type": "stream",
     "text": [
      "125\n",
      "142\n",
      "99\n",
      "147\n",
      "133\n",
      "139\n",
      "120\n",
      "142\n",
      "143\n",
      "136\n",
      "197\n",
      "26\n",
      "163\n"
     ]
    }
   ],
   "source": [
    "# Creation of chunks with recursive text splitting\n",
    "chunks = r_splitter.split_text(text)\n",
    "\n",
    "for chunk in chunks:\n",
    "    print(len(chunk))"
   ]
  },
  {
   "cell_type": "code",
   "execution_count": null,
   "id": "12ab96e4-9c9d-4331-a7ac-d0e1722b4f17",
   "metadata": {},
   "outputs": [],
   "source": []
  }
 ],
 "metadata": {
  "kernelspec": {
   "display_name": "Python 3 (ipykernel)",
   "language": "python",
   "name": "python3"
  },
  "language_info": {
   "codemirror_mode": {
    "name": "ipython",
    "version": 3
   },
   "file_extension": ".py",
   "mimetype": "text/x-python",
   "name": "python",
   "nbconvert_exporter": "python",
   "pygments_lexer": "ipython3",
   "version": "3.9.7"
  }
 },
 "nbformat": 4,
 "nbformat_minor": 5
}
