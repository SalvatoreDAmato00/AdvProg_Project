{
 "cells": [
  {
   "cell_type": "code",
   "execution_count": 1,
   "id": "5a0ac4de-25be-4694-8d1b-5a4203f3ce3d",
   "metadata": {},
   "outputs": [],
   "source": [
    "import os\n",
    "import dill as pickle\n",
    "import threading\n",
    "import time\n",
    "import langchain\n",
    "import faiss\n",
    "import pickle\n",
    "import numpy as np\n",
    "from langchain import OpenAI\n",
    "from langchain.chains import RetrievalQAWithSourcesChain\n",
    "from langchain.chains.qa_with_sources.loading import load_qa_with_sources_chain\n",
    "from langchain.text_splitter import RecursiveCharacterTextSplitter\n",
    "from langchain.document_loaders import UnstructuredURLLoader\n",
    "from langchain.vectorstores import FAISS\n",
    "from langchain_openai import OpenAI\n",
    "from langchain_openai import OpenAIEmbeddings\n",
    "from langchain.chains import RetrievalQAWithSourcesChain\n",
    "\n"
   ]
  },
  {
   "cell_type": "code",
   "execution_count": 2,
   "id": "a33050cc-91da-4a6f-8762-079765682b56",
   "metadata": {},
   "outputs": [],
   "source": [
    "#load openAI api key\n",
    "os.environ['OPENAI_API_KEY'] = "OPENA-AI-KEY"
   ]
  },
  {
   "cell_type": "code",
   "execution_count": 3,
   "id": "bb991ca4-7678-43c0-b51e-bd3a54e8c4f5",
   "metadata": {},
   "outputs": [],
   "source": [
    "\n",
    "# Initialise LLM with required params\n",
    "llm = OpenAI(temperature=0.9, max_tokens=500)"
   ]
  },
  {
   "cell_type": "markdown",
   "id": "1e132ed2-8278-41a9-b39c-a0cb748e4574",
   "metadata": {},
   "source": [
    "Step 1: Load data"
   ]
  },
  {
   "cell_type": "code",
   "execution_count": 4,
   "id": "4e424465-e5a3-450b-b01d-a24b706181a5",
   "metadata": {},
   "outputs": [
    {
     "data": {
      "text/plain": [
       "2"
      ]
     },
     "execution_count": 4,
     "metadata": {},
     "output_type": "execute_result"
    }
   ],
   "source": [
    "\n",
    "\n",
    "loaders = UnstructuredURLLoader(\n",
    "    urls = [\n",
    "        \"https://www.lgt.com/global-en/market-assessments/market-view/march-2024-in-a-nutshell-201318\",\n",
    "        \"https://www.swissinfo.ch/eng/s%26p-500-extends-gains-in-final-minutes-of-trading%3a-markets-wrap/76993844\"])\n",
    "        # \"https://finance.yahoo.com/video/p-500-q4-earnings-season-153057099.html\"\n",
    "# https://www.swissinfo.ch/eng/s%26p-500-extends-gains-in-final-minutes-of-trading%3a-markets-wrap/76993844\n",
    "data = loaders.load() \n",
    "len(data)"
   ]
  },
  {
   "cell_type": "markdown",
   "id": "3b51d814-e2be-47fb-9188-1284a4838179",
   "metadata": {},
   "source": [
    "Step 2: Data splitting to create chunks"
   ]
  },
  {
   "cell_type": "code",
   "execution_count": 5,
   "id": "49ad93f0-61de-4e48-8c46-64f39aa77f3a",
   "metadata": {},
   "outputs": [],
   "source": [
    "\n",
    "\n",
    "text_splitter = RecursiveCharacterTextSplitter(\n",
    "    chunk_size=1000,\n",
    "    chunk_overlap=200\n",
    ")\n",
    "\n",
    "# As data is of type documents we can directly use split_documents over split_text in order to get the chunks.\n",
    "docs = text_splitter.split_documents(data)"
   ]
  },
  {
   "cell_type": "code",
   "execution_count": 6,
   "id": "d914e5e9-8bdf-45b3-b583-1c9cc1038231",
   "metadata": {},
   "outputs": [
    {
     "data": {
      "text/plain": [
       "53"
      ]
     },
     "execution_count": 6,
     "metadata": {},
     "output_type": "execute_result"
    }
   ],
   "source": [
    "len(docs)"
   ]
  },
  {
   "cell_type": "code",
   "execution_count": 7,
   "id": "9968fcb3-7e12-4ef1-96fe-7b31cd6455be",
   "metadata": {},
   "outputs": [
    {
     "data": {
      "text/plain": [
       "Document(page_content='LGT Private Banking House View\\n\\nMarch 2024 - in a nutshell\\n\\nIn this month\\'s House View, we review some of our \"Outlook 2024\" forecasts and take a look at the latest developments in the financial markets.In our Macro article, we discuss the challenges faced by the manufacturing sector in recent years, highlight the factors behind this development and share our outlook for this part of the economy.We also take a look at the outlook for US technology and Chinese equities, and review our positive view on bond proxies.\\n\\n28 February 2024\\n\\nGérald Moser, CIO & Head Investment Services Europe\\n\\n7 minutes\\n\\nShare this page\\n\\nlinkedin\\n\\nx\\n\\nfacebook\\n\\nwhatsapp\\n\\nvia email\\n\\ncopy url\\n\\nShutterstock\\n\\nIn this month’s House View, we are reviewing some of our \"Outlook 2024\" predictions and have a look at the latest developments in financial markets.', metadata={'source': 'https://www.lgt.com/global-en/market-assessments/market-view/march-2024-in-a-nutshell-201318'})"
      ]
     },
     "execution_count": 7,
     "metadata": {},
     "output_type": "execute_result"
    }
   ],
   "source": [
    "docs[0]"
   ]
  },
  {
   "cell_type": "markdown",
   "id": "dfc1cec0-a5de-4be8-be39-db8017e5763e",
   "metadata": {},
   "source": [
    "Step 3: Create embeddings for the chunks and save them into a FAISS index\n"
   ]
  },
  {
   "cell_type": "code",
   "execution_count": 8,
   "id": "119f4e73-4578-40f0-94f9-58dc3d43da79",
   "metadata": {},
   "outputs": [],
   "source": [
    "# # Create the embeddings of the chunks using openAIEmbeddings\n",
    "# embeddings = OpenAIEmbeddings()\n",
    "\n",
    "# # # Pass the documents and embeddings inorder to create FAISS vector index\n",
    "# vectorindex_openai = FAISS.from_documents(docs, embeddings)"
   ]
  },
  {
   "cell_type": "code",
   "execution_count": 9,
   "id": "62134635-81d1-4c46-8972-2e7d9f02b8d3",
   "metadata": {},
   "outputs": [],
   "source": [
    "import openai\n",
    "import faiss\n",
    "import numpy as np\n",
    "import pandas as pd\n",
    "import pickle\n",
    "from openai import OpenAI\n",
    "\n",
    "client = OpenAI()\n",
    "\n",
    "# Function to get embedding\n",
    "def get_embedding(text, model=\"text-embedding-3-small\"):\n",
    "   text = text.replace(\"\\n\", \" \")\n",
    "   return client.embeddings.create(input = [text], model=model).data[0].embedding\n",
    "\n",
    "# list of articles\n",
    "docs = [\n",
    "    \"https://www.lgt.com/global-en/market-assessments/market-view/march-2024-in-a-nutshell-201318\",\n",
    "    \"https://www.swissinfo.ch/eng/s%26p-500-extends-gains-in-final-minutes-of-trading%3a-markets-wrap/76993844\",\n",
    "]\n",
    "\n",
    "# Create a DataFrame\n",
    "df = pd.DataFrame({'combined': docs})\n",
    "\n",
    "# Generate embeddings and add to DataFrame\n",
    "df['ada_embedding'] = df['combined'].apply(lambda x: get_embedding(x, model='text-embedding-3-small'))\n",
    "\n",
    "# Save DataFrame to CSV\n",
    "df.to_csv('embedded_articles.csv', index=False)\n",
    "\n",
    "# Convert embeddings to a numpy array\n",
    "embeddings_np = np.array(df['ada_embedding'].tolist()).astype('float32')"
   ]
  },
  {
   "cell_type": "code",
   "execution_count": 10,
   "id": "3db1f4db-34d9-43bc-895b-d791200fa11f",
   "metadata": {},
   "outputs": [
    {
     "name": "stdout",
     "output_type": "stream",
     "text": [
      "Index loaded successfully\n",
      "Number of vectors in the index: 2\n"
     ]
    }
   ],
   "source": [
    "# Create a FAISS index\n",
    "dimension = embeddings_np.shape[1]\n",
    "index = faiss.IndexFlatL2(dimension)  # L2 distance index\n",
    "index.add(embeddings_np)  # Add embeddings to the index\n",
    "\n",
    "# Save the FAISS index to a file\n",
    "with open('faiss_index.pkl', 'wb') as f:\n",
    "    pickle.dump(index, f)\n",
    "\n",
    "# Load the FAISS index from a file\n",
    "with open('faiss_index.pkl', 'rb') as f:\n",
    "    loaded_index = pickle.load(f)\n",
    "\n",
    "# Verify the loaded index\n",
    "print(\"Index loaded successfully\")\n",
    "print(\"Number of vectors in the index:\", loaded_index.ntotal)"
   ]
  },
  {
   "cell_type": "markdown",
   "id": "2d488271-7fe8-4f53-88e5-86e76fa0f254",
   "metadata": {},
   "source": [
    "Step 4: Retrieve similar embeddings for a given question and call LLM to retrieve final answer"
   ]
  },
  {
   "cell_type": "code",
   "execution_count": 11,
   "id": "6b3b1d84-003f-40b0-a3fe-970aab72d924",
   "metadata": {},
   "outputs": [],
   "source": [
    "import openai\n",
    "import faiss\n",
    "import numpy as np\n",
    "import pandas as pd\n",
    "import pickle\n",
    "from langchain.vectorstores import FAISS\n",
    "from langchain.chains import RetrievalQAWithSourcesChain\n",
    "from langchain.embeddings.openai import OpenAIEmbeddings\n",
    "from langchain.llms import OpenAI\n",
    "\n",
    "# Function to get embedding\n",
    "def get_embedding(text, model=\"text-embedding-3-small\"):\n",
    "   text = text.replace(\"\\n\", \" \")\n",
    "   return client.embeddings.create(input = [text], model=model).data[0].embedding\n",
    "\n",
    "# List of articles\n",
    "docs = [\n",
    "    \"https://www.lgt.com/global-en/market-assessments/market-view/march-2024-in-a-nutshell-201318\",\n",
    "    \"https://www.swissinfo.ch/eng/s%26p-500-extends-gains-in-final-minutes-of-trading%3a-markets-wrap/76993844\",\n",
    "]\n",
    "\n",
    "# Create a DataFrame\n",
    "df = pd.DataFrame({'combined': docs})\n",
    "\n",
    "# Generate embeddings and add to DataFrame\n",
    "df['ada_embedding'] = df['combined'].apply(lambda x: get_embedding(x, model='text-embedding-3-small'))\n",
    "\n",
    "# Save DataFrame to CSV\n",
    "df.to_csv('embedded_articles.csv', index=False)\n",
    "\n",
    "# Convert embeddings to a numpy array\n",
    "embeddings_np = np.array(df['ada_embedding'].tolist()).astype('float32')\n"
   ]
  },
  {
   "cell_type": "code",
   "execution_count": 12,
   "id": "6239881d-4664-48ef-be2b-9555d71dfaca",
   "metadata": {},
   "outputs": [
    {
     "name": "stdout",
     "output_type": "stream",
     "text": [
      "Index loaded successfully\n",
      "Number of vectors in the index: 2\n"
     ]
    }
   ],
   "source": [
    "# Create a FAISS index\n",
    "dimension = embeddings_np.shape[1]\n",
    "index = faiss.IndexFlatL2(dimension)  # L2 distance index\n",
    "index.add(embeddings_np)  # Add embeddings to the index\n",
    "\n",
    "# Save the FAISS index to a file\n",
    "with open('faiss_index.pkl', 'wb') as f:\n",
    "    pickle.dump(index, f)\n",
    "\n",
    "# Load the FAISS index from a file\n",
    "with open('faiss_index.pkl', 'rb') as f:\n",
    "    loaded_index = pickle.load(f)\n",
    "\n",
    "# Verify the loaded index\n",
    "print(\"Index loaded successfully\")\n",
    "print(\"Number of vectors in the index:\", loaded_index.ntotal)\n"
   ]
  },
  {
   "cell_type": "code",
   "execution_count": 13,
   "id": "1149f23a-adf3-436f-b3ec-2560208da995",
   "metadata": {},
   "outputs": [],
   "source": [
    "from langchain.docstore import InMemoryDocstore\n",
    "from langchain.docstore.document import Document\n",
    "\n",
    "# Create documents and the docstore\n",
    "documents = {str(i): Document(page_content=doc, metadata={\"source\": f\"doc_{i}\"}) for i, doc in enumerate(docs)}\n",
    "docstore = InMemoryDocstore(documents)\n",
    "\n",
    "# Create the index_to_docstore_id mapping\n",
    "index_to_docstore_id = {i: str(i) for i in range(len(docs))}"
   ]
  },
  {
   "cell_type": "code",
   "execution_count": 14,
   "id": "1e4daeef-9ec7-4efd-a2c9-62abec32bebd",
   "metadata": {},
   "outputs": [
    {
     "name": "stderr",
     "output_type": "stream",
     "text": [
      "C:\\Users\\sdama\\anaconda3\\envs\\AP_project_solve\\Lib\\site-packages\\langchain_core\\_api\\deprecation.py:119: LangChainDeprecationWarning: The class `OpenAIEmbeddings` was deprecated in LangChain 0.0.9 and will be removed in 0.3.0. An updated version of the class exists in the langchain-openai package and should be used instead. To use it run `pip install -U langchain-openai` and import as `from langchain_openai import OpenAIEmbeddings`.\n",
      "  warn_deprecated(\n"
     ]
    }
   ],
   "source": [
    "# Wrap the FAISS index with LangChain's FAISS integration\n",
    "faiss_store = FAISS(OpenAIEmbeddings(), index=loaded_index, docstore=docstore, index_to_docstore_id=index_to_docstore_id)\n"
   ]
  },
  {
   "cell_type": "code",
   "execution_count": 15,
   "id": "ede04d6c-6bca-45a2-b6f5-d3f892abe252",
   "metadata": {},
   "outputs": [],
   "source": [
    "# Create a retriever\n",
    "retriever = faiss_store.as_retriever()"
   ]
  },
  {
   "cell_type": "code",
   "execution_count": 16,
   "id": "0a36f1f2-a2b6-4150-9954-9ce50f0e1ca3",
   "metadata": {},
   "outputs": [
    {
     "data": {
      "text/plain": [
       "RetrievalQAWithSourcesChain(combine_documents_chain=MapReduceDocumentsChain(llm_chain=LLMChain(prompt=PromptTemplate(input_variables=['context', 'question'], template='Use the following portion of a long document to see if any of the text is relevant to answer the question. \\nReturn any relevant text verbatim.\\n{context}\\nQuestion: {question}\\nRelevant text, if any:'), llm=OpenAI(client=<openai.resources.completions.Completions object at 0x000001A64DCE2B10>, async_client=<openai.resources.completions.AsyncCompletions object at 0x000001A64DCED9D0>, temperature=0.9, max_tokens=500, openai_api_key=SecretStr('**********'), openai_proxy='')), reduce_documents_chain=ReduceDocumentsChain(combine_documents_chain=StuffDocumentsChain(llm_chain=LLMChain(prompt=PromptTemplate(input_variables=['question', 'summaries'], template='Given the following extracted parts of a long document and a question, create a final answer with references (\"SOURCES\"). \\nIf you don\\'t know the answer, just say that you don\\'t know. Don\\'t try to make up an answer.\\nALWAYS return a \"SOURCES\" part in your answer.\\n\\nQUESTION: Which state/country\\'s law governs the interpretation of the contract?\\n=========\\nContent: This Agreement is governed by English law and the parties submit to the exclusive jurisdiction of the English courts in  relation to any dispute (contractual or non-contractual) concerning this Agreement save that either party may apply to any court for an  injunction or other relief to protect its Intellectual Property Rights.\\nSource: 28-pl\\nContent: No Waiver. Failure or delay in exercising any right or remedy under this Agreement shall not constitute a waiver of such (or any other)  right or remedy.\\n\\n11.7 Severability. The invalidity, illegality or unenforceability of any term (or part of a term) of this Agreement shall not affect the continuation  in force of the remainder of the term (if any) and this Agreement.\\n\\n11.8 No Agency. Except as expressly stated otherwise, nothing in this Agreement shall create an agency, partnership or joint venture of any  kind between the parties.\\n\\n11.9 No Third-Party Beneficiaries.\\nSource: 30-pl\\nContent: (b) if Google believes, in good faith, that the Distributor has violated or caused Google to violate any Anti-Bribery Laws (as  defined in Clause 8.5) or that such a violation is reasonably likely to occur,\\nSource: 4-pl\\n=========\\nFINAL ANSWER: This Agreement is governed by English law.\\nSOURCES: 28-pl\\n\\nQUESTION: What did the president say about Michael Jackson?\\n=========\\nContent: Madam Speaker, Madam Vice President, our First Lady and Second Gentleman. Members of Congress and the Cabinet. Justices of the Supreme Court. My fellow Americans.  \\n\\nLast year COVID-19 kept us apart. This year we are finally together again. \\n\\nTonight, we meet as Democrats Republicans and Independents. But most importantly as Americans. \\n\\nWith a duty to one another to the American people to the Constitution. \\n\\nAnd with an unwavering resolve that freedom will always triumph over tyranny. \\n\\nSix days ago, Russia’s Vladimir Putin sought to shake the foundations of the free world thinking he could make it bend to his menacing ways. But he badly miscalculated. \\n\\nHe thought he could roll into Ukraine and the world would roll over. Instead he met a wall of strength he never imagined. \\n\\nHe met the Ukrainian people. \\n\\nFrom President Zelenskyy to every Ukrainian, their fearlessness, their courage, their determination, inspires the world. \\n\\nGroups of citizens blocking tanks with their bodies. Everyone from students to retirees teachers turned soldiers defending their homeland.\\nSource: 0-pl\\nContent: And we won’t stop. \\n\\nWe have lost so much to COVID-19. Time with one another. And worst of all, so much loss of life. \\n\\nLet’s use this moment to reset. Let’s stop looking at COVID-19 as a partisan dividing line and see it for what it is: A God-awful disease.  \\n\\nLet’s stop seeing each other as enemies, and start seeing each other for who we really are: Fellow Americans.  \\n\\nWe can’t change how divided we’ve been. But we can change how we move forward—on COVID-19 and other issues we must face together. \\n\\nI recently visited the New York City Police Department days after the funerals of Officer Wilbert Mora and his partner, Officer Jason Rivera. \\n\\nThey were responding to a 9-1-1 call when a man shot and killed them with a stolen gun. \\n\\nOfficer Mora was 27 years old. \\n\\nOfficer Rivera was 22. \\n\\nBoth Dominican Americans who’d grown up on the same streets they later chose to patrol as police officers. \\n\\nI spoke with their families and told them that we are forever in debt for their sacrifice, and we will carry on their mission to restore the trust and safety every community deserves.\\nSource: 24-pl\\nContent: And a proud Ukrainian people, who have known 30 years  of independence, have repeatedly shown that they will not tolerate anyone who tries to take their country backwards.  \\n\\nTo all Americans, I will be honest with you, as I’ve always promised. A Russian dictator, invading a foreign country, has costs around the world. \\n\\nAnd I’m taking robust action to make sure the pain of our sanctions  is targeted at Russia’s economy. And I will use every tool at our disposal to protect American businesses and consumers. \\n\\nTonight, I can announce that the United States has worked with 30 other countries to release 60 Million barrels of oil from reserves around the world.  \\n\\nAmerica will lead that effort, releasing 30 Million barrels from our own Strategic Petroleum Reserve. And we stand ready to do more if necessary, unified with our allies.  \\n\\nThese steps will help blunt gas prices here at home. And I know the news about what’s happening can seem alarming. \\n\\nBut I want you to know that we are going to be okay.\\nSource: 5-pl\\nContent: More support for patients and families. \\n\\nTo get there, I call on Congress to fund ARPA-H, the Advanced Research Projects Agency for Health. \\n\\nIt’s based on DARPA—the Defense Department project that led to the Internet, GPS, and so much more.  \\n\\nARPA-H will have a singular purpose—to drive breakthroughs in cancer, Alzheimer’s, diabetes, and more. \\n\\nA unity agenda for the nation. \\n\\nWe can do this. \\n\\nMy fellow Americans—tonight , we have gathered in a sacred space—the citadel of our democracy. \\n\\nIn this Capitol, generation after generation, Americans have debated great questions amid great strife, and have done great things. \\n\\nWe have fought for freedom, expanded liberty, defeated totalitarianism and terror. \\n\\nAnd built the strongest, freest, and most prosperous nation the world has ever known. \\n\\nNow is the hour. \\n\\nOur moment of responsibility. \\n\\nOur test of resolve and conscience, of history itself. \\n\\nIt is in this moment that our character is formed. Our purpose is found. Our future is forged. \\n\\nWell I know this nation.\\nSource: 34-pl\\n=========\\nFINAL ANSWER: The president did not mention Michael Jackson.\\nSOURCES:\\n\\nQUESTION: {question}\\n=========\\n{summaries}\\n=========\\nFINAL ANSWER:'), llm=OpenAI(client=<openai.resources.completions.Completions object at 0x000001A64DCE2B10>, async_client=<openai.resources.completions.AsyncCompletions object at 0x000001A64DCED9D0>, temperature=0.9, max_tokens=500, openai_api_key=SecretStr('**********'), openai_proxy='')), document_prompt=PromptTemplate(input_variables=['page_content', 'source'], template='Content: {page_content}\\nSource: {source}'), document_variable_name='summaries')), document_variable_name='context'), retriever=VectorStoreRetriever(tags=['FAISS', 'OpenAIEmbeddings'], vectorstore=<langchain_community.vectorstores.faiss.FAISS object at 0x000001A658BDEA10>))"
      ]
     },
     "execution_count": 16,
     "metadata": {},
     "output_type": "execute_result"
    }
   ],
   "source": [
    "# Create the retrieval QA chain\n",
    "chain = RetrievalQAWithSourcesChain.from_llm(llm=llm, retriever=retriever)\n",
    "chain"
   ]
  },
  {
   "cell_type": "code",
   "execution_count": 17,
   "id": "befbf436-3624-4066-8843-37038a3a024b",
   "metadata": {},
   "outputs": [
    {
     "name": "stdout",
     "output_type": "stream",
     "text": [
      "{'answer': ' The market outlook for the S&P 500 is positive due to economic growth and favorable policies. However, there are some concerns about potential trade tensions and geopolitical uncertainty.\\n', 'sources': 'doc_0, doc_1'}\n"
     ]
    }
   ],
   "source": [
    "# Test the chain with a sample query using invoke\n",
    "query = \"What is the market outlook for the S&P 500?\"\n",
    "result = chain.invoke({\"question\": query}, return_only_outputs=True)\n",
    "print(result)"
   ]
  }
 ],
 "metadata": {
  "kernelspec": {
   "display_name": "AP_project_solve",
   "language": "python",
   "name": "ap_project_solve"
  },
  "language_info": {
   "codemirror_mode": {
    "name": "ipython",
    "version": 3
   },
   "file_extension": ".py",
   "mimetype": "text/x-python",
   "name": "python",
   "nbconvert_exporter": "python",
   "pygments_lexer": "ipython3",
   "version": "3.11.9"
  }
 },
 "nbformat": 4,
 "nbformat_minor": 5
}
